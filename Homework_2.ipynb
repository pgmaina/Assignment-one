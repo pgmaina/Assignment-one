{
  "nbformat": 4,
  "nbformat_minor": 0,
  "metadata": {
    "colab": {
      "name": "Homework 2",
      "provenance": [],
      "authorship_tag": "ABX9TyOAVDdxUcrrqxIjmSFzyPh/",
      "include_colab_link": true
    },
    "kernelspec": {
      "name": "python3",
      "display_name": "Python 3"
    },
    "language_info": {
      "name": "python"
    }
  },
  "cells": [
    {
      "cell_type": "markdown",
      "metadata": {
        "id": "view-in-github",
        "colab_type": "text"
      },
      "source": [
        "<a href=\"https://colab.research.google.com/github/pgmaina/Assignment-one/blob/main/Homework_2.ipynb\" target=\"_parent\"><img src=\"https://colab.research.google.com/assets/colab-badge.svg\" alt=\"Open In Colab\"/></a>"
      ]
    },
    {
      "cell_type": "code",
      "metadata": {
        "colab": {
          "base_uri": "https://localhost:8080/"
        },
        "id": "Fdhm2KE4jnzl",
        "outputId": "7b923db1-a630-4fcf-a861-ef6044cd1a14"
      },
      "source": [
        "Name = input (\"Enter first and last names\")\n",
        "Country = input (\"Enter country of origin\")\n",
        "Profession = input (\"Enter the nature of your current job\")\n",
        "Email = input (\"Enter your email address\")\n",
        "Phone = input (\"Enter your phone Number\")\n",
        "Residence = input (\"Enter your current city of residence\")\n",
        "Address = input (\"Enter your mailing address\")"
      ],
      "execution_count": 6,
      "outputs": [
        {
          "output_type": "stream",
          "text": [
            "Enter first and last names  Peter Maina\n",
            "Enter country of origin  Kenya\n",
            "Enter the nature of your current job  Finance\n",
            "Enter your email address  kenya@gmail.com\n",
            "Enter your phone Number  +256 784 908 876\n",
            "Enter your current city of residence  Nairobi\n",
            "Enter your mailing address  364589 Nairobi\n"
          ],
          "name": "stdout"
        }
      ]
    }
  ]
}