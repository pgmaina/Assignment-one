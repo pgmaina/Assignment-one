{
  "nbformat": 4,
  "nbformat_minor": 0,
  "metadata": {
    "colab": {
      "name": "Untitled0.ipynb",
      "provenance": [],
      "authorship_tag": "ABX9TyMJ2bru0zE1REWXuw20vGD8",
      "include_colab_link": true
    },
    "kernelspec": {
      "name": "python3",
      "display_name": "Python 3"
    },
    "language_info": {
      "name": "python"
    }
  },
  "cells": [
    {
      "cell_type": "markdown",
      "metadata": {
        "id": "view-in-github",
        "colab_type": "text"
      },
      "source": [
        "<a href=\"https://colab.research.google.com/github/pgmaina/Assignment-one/blob/main/Untitled0.ipynb\" target=\"_parent\"><img src=\"https://colab.research.google.com/assets/colab-badge.svg\" alt=\"Open In Colab\"/></a>"
      ]
    },
    {
      "cell_type": "code",
      "metadata": {
        "colab": {
          "base_uri": "https://localhost:8080/"
        },
        "id": "7PxoX0XjKFuy",
        "outputId": "78999ce3-6755-4f8d-c0e0-3ed8c9f7d97a"
      },
      "source": [
        "#Enter first and last name\n",
        "names = input(\"Enter first and last name\")\n",
        "print(names)\n",
        "print()\n",
        "#Enter your goals for this class\n",
        "print(\"What are your goals for this class - long term goals?\")\n",
        "goals = input('What would you like to be....when all is said and done with the class?')\n",
        "print(goals)"
      ],
      "execution_count": 1,
      "outputs": [
        {
          "output_type": "stream",
          "text": [
            "Enter first and last namePeter Maina\n",
            "Peter Maina\n",
            "\n",
            "What are your goals for this class - long term goals?\n",
            "What would you like to be....when all is said and done with the class? aim to become a coding expert and use my acquired skills to provide practical solutions\n",
            " aim to become a coding expert and use my acquired skills to provide practical solutions\n"
          ],
          "name": "stdout"
        }
      ]
    }
  ]
}